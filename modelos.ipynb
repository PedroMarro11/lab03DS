{
 "cells": [
  {
   "cell_type": "code",
   "execution_count": 2,
   "metadata": {},
   "outputs": [],
   "source": [
    "#Librerías\n",
    "import pandas as pd\n",
    "import numpy as np\n",
    "%matplotlib notebook\n",
    "import matplotlib\n",
    "import tensorflow as tf\n",
    "from statsmodels.tsa.stattools import adfuller\n",
    "from sklearn.preprocessing import StandardScaler\n",
    "from tensorflow.keras.models import Sequential\n",
    "from tensorflow.keras.layers import Dense, InputLayer, LSTM\n",
    "from tensorflow.keras.losses import MeanSquaredError"
   ]
  },
  {
   "cell_type": "code",
   "execution_count": 4,
   "metadata": {},
   "outputs": [],
   "source": [
    "consumo = pd.read_excel(\"CONSUMO-2024-06.xlsx\", skiprows = 6)\n",
    "importacion = pd.read_excel(\"IMPORTACION-VOLUMEN-2024-06.xlsx\", skiprows = 6)\n",
    "precios2024 = pd.read_excel(\"Precios-Promedio-Nacionales-Diarios-2024-2.xlsx\", sheet_name = \"2024\", skiprows = 9, header = None, \n",
    "                        names = [\"Fecha\", \"Tipo de Cambio\", \"Superior\", \"Regular\", \"Diesel\", \"Bunker\", \"Glp Cilindro 25Lbs (GTQ/CIL 25 LB)\", \n",
    "                                 \"Glp Cilindro 25Lbs. (GTQ/LB)\"])\n",
    "precios2023 = pd.read_excel(\"Precios-Promedio-Nacionales-Diarios-2024-2.xlsx\", sheet_name = \"2023\", skiprows = 9, header = None,\n",
    "                            names = [\"Fecha\", \"Tipo de Cambio\", \"Superior\", \"Regular\", \"Diesel\", \"Bunker\", \"Glp Cilindro 25Lbs (GTQ/CIL 25 LB)\", \n",
    "                                 \"Glp Cilindro 25Lbs. (GTQ/LB)\"])\n",
    "precios2022 = pd.read_excel(\"Precios-Promedio-Nacionales-Diarios-2024-2.xlsx\", sheet_name = \"2022\", skiprows = 8, header = None,\n",
    "                            names = [\"Fecha\", \"Tipo de Cambio\", \"Superior\", \"Regular\", \"Diesel\", \"Bunker\", \"Glp Cilindro 25Lbs (GTQ/CIL 25 LB)\", \n",
    "                                 \"Glp Cilindro 25Lbs. (GTQ/LB)\"])\n",
    "precios2021 = pd.read_excel(\"Precios-Promedio-Nacionales-Diarios-2024-2.xlsx\", sheet_name = \"2021\", skiprows = 8, header = None,\n",
    "                            names = [\"Fecha\", \"Tipo de Cambio\", \"Superior\", \"Regular\", \"Diesel\", \"Bunker\", \"Glp Cilindro 25Lbs (GTQ/CIL 25 LB)\", \n",
    "                                 \"Glp Cilindro 25Lbs. (GTQ/LB)\"])\n",
    "\n",
    "precios2024.drop(precios2024.tail(9).index, inplace = True)\n",
    "precios2023.drop(precios2023.tail(2).index, inplace = True)\n",
    "precios2022.drop(precios2022.tail(2).index, inplace = True)\n",
    "precios2021.drop(precios2021.tail(2).index, inplace = True)\n",
    "\n",
    "precios = pd.concat([precios2021, precios2022, precios2023, precios2024], ignore_index = True)"
   ]
  },
  {
   "cell_type": "code",
   "execution_count": null,
   "metadata": {},
   "outputs": [],
   "source": []
  }
 ],
 "metadata": {
  "kernelspec": {
   "display_name": ".venv",
   "language": "python",
   "name": "python3"
  },
  "language_info": {
   "codemirror_mode": {
    "name": "ipython",
    "version": 3
   },
   "file_extension": ".py",
   "mimetype": "text/x-python",
   "name": "python",
   "nbconvert_exporter": "python",
   "pygments_lexer": "ipython3",
   "version": "3.11.9"
  }
 },
 "nbformat": 4,
 "nbformat_minor": 2
}
